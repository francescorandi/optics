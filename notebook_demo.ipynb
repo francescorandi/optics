{
 "metadata": {
  "name": "",
  "signature": "sha256:063ae7cfeb740c170ca15a2df8f5a023ba4818895775b0cc5bbcaca55f2013a6"
 },
 "nbformat": 3,
 "nbformat_minor": 0,
 "worksheets": [
  {
   "cells": [
    {
     "cell_type": "markdown",
     "metadata": {},
     "source": [
      "# Demo\n",
      "\n",
      "This is an example of how an interactive IPython/Jupyter notebook works with this optics project.\n",
      "\n",
      "It'll be split into different sections explaining individual components and building up towards a full use case."
     ]
    },
    {
     "cell_type": "markdown",
     "metadata": {},
     "source": [
      "## Oscillators\n",
      "\n",
      "We have implemented a few commonly used oscillators/lineshapes."
     ]
    },
    {
     "cell_type": "code",
     "collapsed": false,
     "input": [
      "import Oscillators as osc"
     ],
     "language": "python",
     "metadata": {},
     "outputs": [],
     "prompt_number": 2
    },
    {
     "cell_type": "markdown",
     "metadata": {},
     "source": [
      "### Lorentz (Drude)\n",
      "\n",
      "The Lorentz lineshape is the most common to use. "
     ]
    },
    {
     "cell_type": "markdown",
     "metadata": {},
     "source": [
      "Let's create an oscillator of amplitude 1, center position 1.5 eV, and width 0.5 eV"
     ]
    },
    {
     "cell_type": "code",
     "collapsed": false,
     "input": [
      "l = osc.Lorentz(1,0.5,1.5)\n",
      "print(l)"
     ],
     "language": "python",
     "metadata": {},
     "outputs": [
      {
       "output_type": "stream",
       "stream": "stdout",
       "text": [
        "Lorentz lineshape with intensity 1.00000, width 0.50000, and position 1.500000\n"
       ]
      }
     ],
     "prompt_number": 9
    },
    {
     "cell_type": "markdown",
     "metadata": {},
     "source": [
      "Dielectric function"
     ]
    },
    {
     "cell_type": "code",
     "collapsed": false,
     "input": [
      "import numpy as np\n",
      "%pylab inline\n",
      "window = np.arange(0.01,3,0.01)\n"
     ],
     "language": "python",
     "metadata": {},
     "outputs": [
      {
       "output_type": "stream",
       "stream": "stdout",
       "text": [
        "Populating the interactive namespace from numpy and matplotlib\n"
       ]
      }
     ],
     "prompt_number": 6
    },
    {
     "cell_type": "code",
     "collapsed": false,
     "input": [
      "plot(window, l.dielectricFunction(window))"
     ],
     "language": "python",
     "metadata": {},
     "outputs": [
      {
       "output_type": "stream",
       "stream": "stderr",
       "text": [
        "/usr/lib/python3/dist-packages/numpy/core/numeric.py:460: ComplexWarning: Casting complex values to real discards the imaginary part\n",
        "  return array(a, dtype, copy=False, order=order)\n"
       ]
      },
      {
       "metadata": {},
       "output_type": "pyout",
       "prompt_number": 7,
       "text": [
        "[<matplotlib.lines.Line2D at 0x7fe136db9940>]"
       ]
      },
      {
       "metadata": {},
       "output_type": "display_data",
       "png": "[encoded data removed]",
       "text": [
        "<matplotlib.figure.Figure at 0x7fe15135b748>"
       ]
      }
     ],
     "prompt_number": 7
    },
    {
     "cell_type": "markdown",
     "metadata": {},
     "source": [
      "We can see that we get a warning because the dielectric function is a complex value. Let's plot the imaginary part, $\\varepsilon_2$ which is related to the absorption"
     ]
    },
    {
     "cell_type": "code",
     "collapsed": false,
     "input": [
      "plot(window, np.imag(l.dielectricFunction(window)))"
     ],
     "language": "python",
     "metadata": {},
     "outputs": [
      {
       "metadata": {},
       "output_type": "pyout",
       "prompt_number": 10,
       "text": [
        "[<matplotlib.lines.Line2D at 0x7fe136c966a0>]"
       ]
      },
      {
       "metadata": {},
       "output_type": "display_data",
       "png": "[encoded data removed]",
       "text": [
        "<matplotlib.figure.Figure at 0x7fe136cf8e10>"
       ]
      }
     ],
     "prompt_number": 10
    },
    {
     "cell_type": "markdown",
     "metadata": {},
     "source": [
      "# Optical Models\n",
      "\n",
      "To combine more than one oscillator to model the optical response of a material, an optical model can be created. This model contains the collection of oscillators describing a system."
     ]
    },
    {
     "cell_type": "code",
     "collapsed": false,
     "input": [
      "from OpticalModel import *\n",
      "om = OpticalModel()\n",
      "om.add(l)"
     ],
     "language": "python",
     "metadata": {},
     "outputs": [],
     "prompt_number": 13
    },
    {
     "cell_type": "code",
     "collapsed": false,
     "input": [
      "om.show()"
     ],
     "language": "python",
     "metadata": {},
     "outputs": [
      {
       "output_type": "stream",
       "stream": "stdout",
       "text": [
        "Composition of: Optical Model 2\n",
        "Index\t Oscillator name\n",
        "========================\n",
        "0\tLorentz\tLorentz lineshape with intensity 1.00000, width 0.50000, and position 1.500000\n"
       ]
      }
     ],
     "prompt_number": 14
    },
    {
     "cell_type": "markdown",
     "metadata": {},
     "source": []
    }
   ],
   "metadata": {}
  }
 ]
}