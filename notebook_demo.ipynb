{
 "cells": [
  {
   "cell_type": "markdown",
   "metadata": {},
   "source": [
    "# Demo\n",
    "\n",
    "This is an example of how an interactive IPython/Jupyter notebook works with this optics project.\n",
    "\n",
    "It'll be split into different sections explaining individual components and building up towards a full use case."
   ]
  },
  {
   "cell_type": "markdown",
   "metadata": {},
   "source": [
    "## Oscillators\n",
    "\n",
    "We have implemented a few commonly used oscillators/lineshapes. These are located in the Oscillators module."
   ]
  },
  {
   "cell_type": "code",
   "execution_count": null,
   "metadata": {
    "collapsed": false
   },
   "outputs": [],
   "source": [
    "import Oscillators as osc"
   ]
  },
  {
   "cell_type": "markdown",
   "metadata": {},
   "source": [
    "Let's create a Lorentz oscillator of amplitude 1, center position 1.5 eV, and width 0.2 eV."
   ]
  },
  {
   "cell_type": "code",
   "execution_count": null,
   "metadata": {
    "collapsed": false
   },
   "outputs": [],
   "source": [
    "l = osc.Lorentz(1,0.2,1.5)\n",
    "print(l)"
   ]
  },
  {
   "cell_type": "markdown",
   "metadata": {},
   "source": [
    "We can directly ask some properties to this oscillator, like its dielectric function in a particular energy/frequency window of interest.\n",
    "\n",
    "First we define the window of interest though a set of points where the dielectric function will be evaluated. In our case we want the range from 0.01 to 3 eV in steps of 0.1. For this we will use numpy, but a standard Python list works too!"
   ]
  },
  {
   "cell_type": "code",
   "execution_count": null,
   "metadata": {
    "collapsed": false
   },
   "outputs": [],
   "source": [
    "import numpy as np\n",
    "l.dielectricFunction(np.arange(0.01,3,0.1))"
   ]
  },
  {
   "cell_type": "markdown",
   "metadata": {},
   "source": [
    "As it can be seen, a numpy array of complex values containing the dielectric function evaluated in the points given is returned. But just a list of numbers do not tell much, thus we want to be able to see it.\n",
    "\n",
    "We will use the matplotlib package to manually plot the dielectric function of this oscillator, but later we will see an alternative that is provided allowing for a shortcut.\n",
    "\n",
    "Again, we will define a window of interest but with a smaller step."
   ]
  },
  {
   "cell_type": "code",
   "execution_count": null,
   "metadata": {
    "collapsed": false
   },
   "outputs": [],
   "source": [
    "import numpy as np\n",
    "%pylab inline\n",
    "window = np.arange(0.01,3,0.01)\n",
    "plot(window, l.dielectricFunction(window))"
   ]
  },
  {
   "cell_type": "markdown",
   "metadata": {},
   "source": [
    "We can see that we get a warning because the dielectric function is a complex value and only the real part is considered ($\\varepsilon_1$). Let's plot the imaginary part of the dielectric function ($\\varepsilon_2$)."
   ]
  },
  {
   "cell_type": "code",
   "execution_count": null,
   "metadata": {
    "collapsed": false
   },
   "outputs": [],
   "source": [
    "plot(window, np.imag(l.dielectricFunction(window)))"
   ]
  },
  {
   "cell_type": "markdown",
   "metadata": {},
   "source": [
    "And of course we could show both parts of the dielectric function in one single plot."
   ]
  },
  {
   "cell_type": "code",
   "execution_count": null,
   "metadata": {
    "collapsed": false
   },
   "outputs": [],
   "source": [
    "plot(window, np.real(l.dielectricFunction(window)))\n",
    "plot(window, np.imag(l.dielectricFunction(window)))"
   ]
  },
  {
   "cell_type": "markdown",
   "metadata": {},
   "source": [
    "Another interesting propertie of oscillators are their optical conductivity and spectral weight. These two can also be accessed at an oscillator level."
   ]
  },
  {
   "cell_type": "markdown",
   "metadata": {},
   "source": [
    "# Optical Models\n",
    "\n",
    "To combine more than one oscillator to model the optical response of a material, an optical model can be created. This model contains the collection of oscillators describing a system.\n",
    "\n",
    "We will create an empty model and add to it the already created oscillator in the previous section."
   ]
  },
  {
   "cell_type": "code",
   "execution_count": null,
   "metadata": {
    "collapsed": false
   },
   "outputs": [],
   "source": [
    "from OpticalModel import *\n",
    "om = OpticalModel()\n",
    "om.add(l)\n",
    "om.show()"
   ]
  },
  {
   "cell_type": "markdown",
   "metadata": {
    "collapsed": false
   },
   "source": [
    "Here we can see a text representation of the model indicating its name, which by default is *Optical Model 1*, and a list of the oscillators included. If you have run the previous cell more than once, then the number in the name of the model will change representing how many models have been created in a session. This can be changed by providing a name when creating the model of afterwards.\n",
    "\n",
    "Let us change the name and then make use of a shortcut to plot the dielectric function of the model reusing the previously defined window of interest."
   ]
  },
  {
   "cell_type": "code",
   "execution_count": null,
   "metadata": {
    "collapsed": false
   },
   "outputs": [],
   "source": [
    "om.name = \"Demo Model\"\n",
    "om.plot(window)"
   ]
  },
  {
   "cell_type": "markdown",
   "metadata": {},
   "source": [
    "This shortcut provides a way to visualize the dielectric function in a quick and convenient way, providing automatic labeling of axes and a title. Note that the title coincides with the name of the model!\n",
    "\n",
    "Now we would like to make something slightly more complex, and add a second oscillator to the model. In this case, we will add a Gaussian. The oscillator is added directly to the model and it is in its own cell to avoid adding it more than once in case we want to modify the plot creation that follows."
   ]
  },
  {
   "cell_type": "code",
   "execution_count": null,
   "metadata": {
    "collapsed": true
   },
   "outputs": [],
   "source": [
    "om.add(osc.Gauss(1,0.4,3))"
   ]
  },
  {
   "cell_type": "markdown",
   "metadata": {},
   "source": [
    "Now we can show the model and then plot it again. "
   ]
  },
  {
   "cell_type": "code",
   "execution_count": null,
   "metadata": {
    "collapsed": false
   },
   "outputs": [],
   "source": [
    "om.show()\n",
    "om.plot(window)"
   ]
  },
  {
   "cell_type": "markdown",
   "metadata": {},
   "source": [
    "We do not see the whole of the Gaussian! In this case, since the Gaussian is added at 3 eV, we have to extend the window of interest."
   ]
  },
  {
   "cell_type": "code",
   "execution_count": null,
   "metadata": {
    "collapsed": false
   },
   "outputs": [],
   "source": [
    "extended_window = np.arange(0.01,4,0.01)\n",
    "om.plot(extended_window)"
   ]
  },
  {
   "cell_type": "markdown",
   "metadata": {},
   "source": [
    "Talk about flags to modify how it gets plotted, how to plot other model properties like R, n, k."
   ]
  }
 ],
 "metadata": {
  "kernelspec": {
   "display_name": "Python 3",
   "language": "python",
   "name": "python3"
  },
  "language_info": {
   "codemirror_mode": {
    "name": "ipython",
    "version": 3
   },
   "file_extension": ".py",
   "mimetype": "text/x-python",
   "name": "python",
   "nbconvert_exporter": "python",
   "pygments_lexer": "ipython3",
   "version": "3.5.1"
  }
 },
 "nbformat": 4,
 "nbformat_minor": 0
}
